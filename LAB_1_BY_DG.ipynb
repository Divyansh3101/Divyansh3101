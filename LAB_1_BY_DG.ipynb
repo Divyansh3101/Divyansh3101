{
  "nbformat": 4,
  "nbformat_minor": 0,
  "metadata": {
    "colab": {
      "provenance": [],
      "authorship_tag": "ABX9TyOCl8f6OVIJWbN4ebJJMQij",
      "include_colab_link": true
    },
    "kernelspec": {
      "name": "python3",
      "display_name": "Python 3"
    },
    "language_info": {
      "name": "python"
    }
  },
  "cells": [
    {
      "cell_type": "markdown",
      "metadata": {
        "id": "view-in-github",
        "colab_type": "text"
      },
      "source": [
        "<a href=\"https://colab.research.google.com/github/Divyansh3101/Divyansh3101/blob/main/LAB_1_BY_DG.ipynb\" target=\"_parent\"><img src=\"https://colab.research.google.com/assets/colab-badge.svg\" alt=\"Open In Colab\"/></a>"
      ]
    },
    {
      "cell_type": "code",
      "execution_count": null,
      "metadata": {
        "id": "XhUqr46S3Smh"
      },
      "outputs": [],
      "source": [
        "COMPREHENSIVE PROGRAAM LAB 1"
      ]
    },
    {
      "cell_type": "markdown",
      "source": [
        "PRINT SQUARE OF NATURAL NO. 1 TO 10\n"
      ],
      "metadata": {
        "id": "acgtNkeJ3czJ"
      }
    },
    {
      "cell_type": "code",
      "source": [
        "1\n",
        "4\n",
        "9\n",
        "16\n",
        "25\n",
        "36\n",
        "49\n",
        "64\n",
        "81\n",
        "100\n"
      ],
      "metadata": {
        "id": "hrSnOwTz3k05"
      },
      "execution_count": null,
      "outputs": []
    },
    {
      "cell_type": "markdown",
      "source": [
        "COUNT NO. OF 6 B/W 1 TO 1000 "
      ],
      "metadata": {
        "id": "kPz6bhSS3t44"
      }
    },
    {
      "cell_type": "code",
      "source": [
        "count = 0\n",
        "for i in range(1, 1001):\n",
        "    count += str(i).count('6')\n",
        "print(count)\n"
      ],
      "metadata": {
        "id": "FRjyup2P32AH"
      },
      "execution_count": null,
      "outputs": []
    },
    {
      "cell_type": "markdown",
      "source": [
        "COUNBT NO. OF SPACES BETWEEN STRING"
      ],
      "metadata": {
        "id": "JzNolmij37wY"
      }
    },
    {
      "cell_type": "code",
      "source": [
        "s = \"This is a sample string with spaces.\"\n",
        "count = s.count(' ')\n",
        "print(count)\n"
      ],
      "metadata": {
        "id": "N_HsXFJu4Cwg"
      },
      "execution_count": null,
      "outputs": []
    },
    {
      "cell_type": "markdown",
      "source": [
        "WRITE TABLE OF 5"
      ],
      "metadata": {
        "id": "WgAU5vmh4Izh"
      }
    },
    {
      "cell_type": "code",
      "source": [
        "for i in range(1, 11):\n",
        "    print(\"5 x\", i, \"=\", 5 * i)\n"
      ],
      "metadata": {
        "id": "qKRXtFFe4OaB"
      },
      "execution_count": null,
      "outputs": []
    },
    {
      "cell_type": "markdown",
      "source": [
        "FIND NO. B/W 1 TO 1000 DIVISIBLE BY 2 AND 5 "
      ],
      "metadata": {
        "id": "PLMZxug-4SEw"
      }
    },
    {
      "cell_type": "code",
      "source": [
        "for i in range(1, 1001):\n",
        "    if i % 2 == 0 and i % 5 == 0:\n",
        "        print(i)\n"
      ],
      "metadata": {
        "id": "WAczSUPR4gLI"
      },
      "execution_count": null,
      "outputs": []
    }
  ]
}